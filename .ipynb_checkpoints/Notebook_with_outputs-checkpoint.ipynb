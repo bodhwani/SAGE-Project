{
 "cells": [
  {
   "cell_type": "code",
   "execution_count": null,
   "metadata": {
    "collapsed": true
   },
   "outputs": [],
   "source": [
    "import dateutil.parser as parser\n",
    "from urllib.request import urlopen\n",
    "from bs4 import BeautifulSoup\n",
    "import pandas as pd\n",
    "import datetime\n",
    "from datetime import timedelta, date\n",
    "from collections import defaultdict, OrderedDict"
   ]
  },
  {
   "cell_type": "code",
   "execution_count": null,
   "metadata": {
    "collapsed": true
   },
   "outputs": [],
   "source": [
    "data = urlopen(\"https://en.wikipedia.org/wiki/2019_in_spaceflight#Orbital_launches\").read()\n",
    "soup = BeautifulSoup(data,'lxml')\n",
    "# print(soup.prettify())\n",
    "tables = soup.find( \"table\", {\"class\":\"wikitable collapsible\"} )\n",
    "all_tr = tables.find_all(\"tr\")\n",
    "dates = []\n",
    "for i in all_tr[4:]:\n",
    "    temp = i.find([\"td\",\"span\"], {\"class\": \"nowrap\"})\n",
    "\n",
    "    if(temp is not None):\n",
    "        td_value = (i.find(\"td\"))\n",
    "        try:\n",
    "            check = int(td_value.get_text()[:2])\n",
    "            inv_date = td_value.get_text()\n",
    "            if \"[\" in inv_date:\n",
    "                arrow_index = inv_date.index(\"[\")\n",
    "                inv_date = inv_date[0:arrow_index]\n",
    "                year_date = \"2019 \" + inv_date\n",
    "                date = parser.parse(year_date)\n",
    "                dates.append(date.isoformat())\n",
    "\n",
    "        except:\n",
    "            continue\n",
    "dates"
   ]
  },
  {
   "cell_type": "code",
   "execution_count": null,
   "metadata": {
    "collapsed": true
   },
   "outputs": [],
   "source": [
    "all_dates = []\n",
    "def generate(start, end):\n",
    "    date_array = (start + datetime.timedelta(days=x) for x in range(0, (end-start).days))\n",
    "\n",
    "    for date_object in date_array:\n",
    "        all_dates.append(date_object.isoformat())\n",
    "        \n",
    "start = datetime.datetime.strptime(\"2019-01-01\", \"%Y-%m-%d\")\n",
    "end = datetime.datetime.strptime(\"2020-01-01\", \"%Y-%m-%d\")\n",
    "generate(start, end)\n",
    "d={}\n",
    "for i in all_dates:\n",
    "    d[i]=0\n",
    "all_dates_c = list(all_dates)    \n"
   ]
  },
  {
   "cell_type": "code",
   "execution_count": null,
   "metadata": {},
   "outputs": [],
   "source": [
    "for i in dates:\n",
    "    initial = i[:-9] + \"T00:00:00\"\n",
    "    index = all_dates.index(initial)\n",
    "    prev = all_dates_c[index]\n",
    "    all_dates_c[index] = i\n",
    "    d[all_dates_c[index]] = d.pop(prev) + 1\n",
    "ordered_dict = OrderedDict(sorted(d.items(), key=lambda t: t[0]))\n"
   ]
  },
  {
   "cell_type": "code",
   "execution_count": null,
   "metadata": {},
   "outputs": [],
   "source": [
    "dfObj = pd.DataFrame(list(ordered_dict.items()))\n",
    "dfObj.columns = ['date', 'value']\n",
    "dfObj.to_csv('output_new.csv', index = False)"
   ]
  }
 ],
 "metadata": {
  "anaconda-cloud": {},
  "kernelspec": {
   "display_name": "Python [conda root]",
   "language": "python",
   "name": "conda-root-py"
  },
  "language_info": {
   "codemirror_mode": {
    "name": "ipython",
    "version": 3
   },
   "file_extension": ".py",
   "mimetype": "text/x-python",
   "name": "python",
   "nbconvert_exporter": "python",
   "pygments_lexer": "ipython3",
   "version": "3.5.2"
  }
 },
 "nbformat": 4,
 "nbformat_minor": 1
}
